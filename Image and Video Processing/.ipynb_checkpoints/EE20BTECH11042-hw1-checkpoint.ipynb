{
 "cells": [
  {
   "cell_type": "markdown",
   "id": "6fe31802",
   "metadata": {},
   "source": [
    "# Importing Libraries"
   ]
  },
  {
   "cell_type": "code",
   "execution_count": 1,
   "id": "749ee20b",
   "metadata": {},
   "outputs": [],
   "source": [
    "import numpy as np"
   ]
  },
  {
   "cell_type": "markdown",
   "id": "8b435e0f",
   "metadata": {},
   "source": [
    "# Question 1"
   ]
  },
  {
   "cell_type": "code",
   "execution_count": null,
   "id": "254e76e1",
   "metadata": {},
   "outputs": [],
   "source": [
    "width, height = map(int, input(\"Please enter the size of TV (as W X H in inches): \").split(\"X\"))\n",
    "resolution = map(int, input(\"Please enter the resolution of TV (as Wpx X Hpx in pixels): \").split(\"X\"))\n",
    "available_distance = int(input(\"Please enter the available distance (in inches): \"))\n",
    "\n",
    "spatial_frequency = 6\n",
    "optimal_distance = width / np.tan(resolution[0] / (2 * spatial_frequency))\n",
    "\n",
    "distance = min(optimal_distance, available_distance)\n",
    "print(f\"The couch should be placed at a distance of {distance} in front of the TV.\")"
   ]
  },
  {
   "cell_type": "markdown",
   "id": "b54ff5bb",
   "metadata": {},
   "source": [
    "# Question 2"
   ]
  },
  {
   "cell_type": "code",
   "execution_count": null,
   "id": "b21d3be6",
   "metadata": {},
   "outputs": [],
   "source": []
  }
 ],
 "metadata": {
  "kernelspec": {
   "display_name": "Python 3 (ipykernel)",
   "language": "python",
   "name": "python3"
  },
  "language_info": {
   "codemirror_mode": {
    "name": "ipython",
    "version": 3
   },
   "file_extension": ".py",
   "mimetype": "text/x-python",
   "name": "python",
   "nbconvert_exporter": "python",
   "pygments_lexer": "ipython3",
   "version": "3.9.5"
  }
 },
 "nbformat": 4,
 "nbformat_minor": 5
}
