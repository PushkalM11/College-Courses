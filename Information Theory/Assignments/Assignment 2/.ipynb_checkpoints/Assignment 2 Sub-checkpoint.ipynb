{
 "cells": [
  {
   "cell_type": "code",
   "execution_count": 1,
   "id": "525d2519",
   "metadata": {},
   "outputs": [],
   "source": [
    "import numpy as np"
   ]
  },
  {
   "cell_type": "code",
   "execution_count": 2,
   "id": "55f291ea",
   "metadata": {},
   "outputs": [],
   "source": [
    "def lrt(T):\n",
    "    P1 = np.array([0.5, 0.35, 0.15])\n",
    "    P2 = np.array([0.2, 0.3, 0.5])\n",
    "    P1_X = np.zeros(27)\n",
    "    P2_X = np.zeros(27)\n",
    "    \n",
    "    for i in range(27):\n",
    "        b0 = i % 3\n",
    "        b1 = int((i - b0) / 3) % 3\n",
    "        b2 = int((i - b0 - b1 * 3) / 9)\n",
    "        \n",
    "        P1_X[i] = P1[b2] * P1[b1] * P1[b0]\n",
    "        P2_X[i] = P2[b2] * P2[b1] * P2[b0]\n",
    "\n",
    "    L = P1_X / P2_X\n",
    "    \n",
    "    A = 1 * (L > T)\n",
    "    Ac = 1 - A\n",
    "    \n",
    "    alpha = np.sum(P1_X * Ac)\n",
    "    beta = np.sum(P2_X * A)\n",
    "    \n",
    "    return alpha, beta"
   ]
  },
  {
   "cell_type": "code",
   "execution_count": 3,
   "id": "d6a3e9ee",
   "metadata": {},
   "outputs": [
    {
     "ename": "NameError",
     "evalue": "name 'Aw' is not defined",
     "output_type": "error",
     "traceback": [
      "\u001b[0;31m---------------------------------------------------------------------------\u001b[0m",
      "\u001b[0;31mNameError\u001b[0m                                 Traceback (most recent call last)",
      "Input \u001b[0;32mIn [3]\u001b[0m, in \u001b[0;36m<module>\u001b[0;34m\u001b[0m\n\u001b[1;32m      1\u001b[0m T_list \u001b[38;5;241m=\u001b[39m [\u001b[38;5;241m0.2\u001b[39m, \u001b[38;5;241m0.3\u001b[39m, \u001b[38;5;241m0.75\u001b[39m, \u001b[38;5;241m1.166\u001b[39m, \u001b[38;5;241m1.5\u001b[39m, \u001b[38;5;241m2.5\u001b[39m, \u001b[38;5;241m2.8\u001b[39m]\n\u001b[1;32m      2\u001b[0m \u001b[38;5;28;01mfor\u001b[39;00m T \u001b[38;5;129;01min\u001b[39;00m T_list:\n\u001b[0;32m----> 3\u001b[0m     \u001b[38;5;28mprint\u001b[39m(\u001b[38;5;124mf\u001b[39m\u001b[38;5;124m\"\u001b[39m\u001b[38;5;124mFor \u001b[39m\u001b[38;5;132;01m{\u001b[39;00mT\u001b[38;5;132;01m}\u001b[39;00m\u001b[38;5;124m: \u001b[39m\u001b[38;5;132;01m{\u001b[39;00mlrt(T)\u001b[38;5;132;01m}\u001b[39;00m\u001b[38;5;124m\"\u001b[39m)\n",
      "Input \u001b[0;32mIn [2]\u001b[0m, in \u001b[0;36mlrt\u001b[0;34m(T)\u001b[0m\n\u001b[1;32m     18\u001b[0m Ac \u001b[38;5;241m=\u001b[39m \u001b[38;5;241m1\u001b[39m \u001b[38;5;241m-\u001b[39m A\n\u001b[1;32m     20\u001b[0m alpha \u001b[38;5;241m=\u001b[39m np\u001b[38;5;241m.\u001b[39msum(P1_X \u001b[38;5;241m*\u001b[39m Ac)\n\u001b[0;32m---> 21\u001b[0m beta \u001b[38;5;241m=\u001b[39m np\u001b[38;5;241m.\u001b[39msum(P2_X \u001b[38;5;241m*\u001b[39m \u001b[43mAw\u001b[49m)\n\u001b[1;32m     23\u001b[0m \u001b[38;5;28;01mreturn\u001b[39;00m alpha, beta\n",
      "\u001b[0;31mNameError\u001b[0m: name 'Aw' is not defined"
     ]
    }
   ],
   "source": [
    "T_list = [0.2, 0.3, 0.75, 1.166, 1.5, 2.5, 2.8]\n",
    "for T in T_list:\n",
    "    print(f\"For {T}: {lrt(T)}\")"
   ]
  }
 ],
 "metadata": {
  "kernelspec": {
   "display_name": "Python 3 (ipykernel)",
   "language": "python",
   "name": "python3"
  },
  "language_info": {
   "codemirror_mode": {
    "name": "ipython",
    "version": 3
   },
   "file_extension": ".py",
   "mimetype": "text/x-python",
   "name": "python",
   "nbconvert_exporter": "python",
   "pygments_lexer": "ipython3",
   "version": "3.9.5"
  }
 },
 "nbformat": 4,
 "nbformat_minor": 5
}
