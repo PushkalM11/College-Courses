{
 "cells": [
  {
   "cell_type": "code",
   "execution_count": 1,
   "id": "525d2519",
   "metadata": {},
   "outputs": [],
   "source": [
    "import numpy as np"
   ]
  },
  {
   "cell_type": "code",
   "execution_count": 2,
   "id": "55f291ea",
   "metadata": {},
   "outputs": [],
   "source": [
    "def lrt(T):\n",
    "    P1 = np.array([0.5, 0.35, 0.15])\n",
    "    P2 = np.array([0.2, 0.3, 0.5])\n",
    "    P1_X = np.zeros(27)\n",
    "    P2_X = np.zeros(27)\n",
    "    \n",
    "    for i in range(27):\n",
    "        b0 = i % 3\n",
    "        b1 = int((i - b0) / 3) % 3\n",
    "        b2 = int((i - b0 - b1 * 3) / 9)\n",
    "        \n",
    "        P1_X[i] = P1[b2] * P1[b1] * P1[b0]\n",
    "        P2_X[i] = P2[b2] * P2[b1] * P2[b0]\n",
    "\n",
    "    L = P1_X / P2_X\n",
    "    \n",
    "    A = 1 * (L > T)\n",
    "    Ac = 1 - A\n",
    "    \n",
    "    alpha = np.sum(P1_X * Ac)\n",
    "    beta = np.sum(P2_X * A)\n",
    "    \n",
    "    return alpha, beta"
   ]
  },
  {
   "cell_type": "code",
   "execution_count": 3,
   "id": "d6a3e9ee",
   "metadata": {},
   "outputs": [
    {
     "name": "stdout",
     "output_type": "stream",
     "text": [
      "For 0.2: (0.027, 0.65)\n",
      "For 0.3: (0.060750000000000005, 0.5)\n",
      "For 0.75: (0.11587499999999999, 0.365)\n",
      "For 1.166: (0.273375, 0.185)\n",
      "For 1.5: (0.273375, 0.185)\n",
      "For 2.5: (0.42875, 0.098)\n",
      "For 2.8: (0.42875, 0.098)\n"
     ]
    }
   ],
   "source": [
    "T_list = [0.2, 0.3, 0.75, 1.166, 1.5, 2.5, 2.8]\n",
    "for T in T_list:\n",
    "    print(f\"For {T}: {lrt(T)}\")"
   ]
  }
 ],
 "metadata": {
  "kernelspec": {
   "display_name": "Python 3 (ipykernel)",
   "language": "python",
   "name": "python3"
  },
  "language_info": {
   "codemirror_mode": {
    "name": "ipython",
    "version": 3
   },
   "file_extension": ".py",
   "mimetype": "text/x-python",
   "name": "python",
   "nbconvert_exporter": "python",
   "pygments_lexer": "ipython3",
   "version": "3.9.5"
  }
 },
 "nbformat": 4,
 "nbformat_minor": 5
}
