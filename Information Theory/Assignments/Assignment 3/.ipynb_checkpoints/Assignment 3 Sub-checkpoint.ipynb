{
 "cells": [
  {
   "cell_type": "code",
   "execution_count": 1,
   "id": "73630258",
   "metadata": {},
   "outputs": [],
   "source": [
    "import numpy as np"
   ]
  },
  {
   "cell_type": "code",
   "execution_count": 32,
   "id": "55124b12",
   "metadata": {},
   "outputs": [],
   "source": [
    "import numpy as np \n",
    "\n",
    "def convert_int_to_binary(num, digits):\n",
    "    binary = np.zeros(digits)\n",
    "    k = digits - 1\n",
    "    while num > 0:\n",
    "        binary[k] = num % 2\n",
    "        num = int(num / 2)\n",
    "        k -= 1\n",
    "    return binary\n",
    "\n",
    "def generate_H_matrix(shape):\n",
    "    M, N = shape\n",
    "    H = np.zeros(shape)\n",
    "    for j in range(N):\n",
    "        H[ : , j] = np.array(convert_int_to_binary(j, M))\n",
    "    return H\n",
    "\n",
    "def convert_binary_to_int(binary):\n",
    "    integer = 0\n",
    "    bits = len(binary)\n",
    "    for i, val in enumerate(binary):\n",
    "        integer += (val * (2 ** (bits - i - 1)))\n",
    "    return int(integer)\n",
    "\n",
    "def HammingDecoder(y):\n",
    "    y = y.reshape([15, 1])\n",
    "    H = generate_H_matrix([4, 15])\n",
    "    syndrome = H @ y\n",
    "    s = syndrome % 2\n",
    "    index_to_flip = convert_binary_to_int(s)\n",
    "    y[index_to_flip] = (1 if y[index_to_flip] == 0 else 0)\n",
    "    return y.reshape([15]).tolist()"
   ]
  },
  {
   "cell_type": "code",
   "execution_count": null,
   "id": "3fb5d166",
   "metadata": {},
   "outputs": [],
   "source": []
  }
 ],
 "metadata": {
  "kernelspec": {
   "display_name": "Python 3 (ipykernel)",
   "language": "python",
   "name": "python3"
  },
  "language_info": {
   "codemirror_mode": {
    "name": "ipython",
    "version": 3
   },
   "file_extension": ".py",
   "mimetype": "text/x-python",
   "name": "python",
   "nbconvert_exporter": "python",
   "pygments_lexer": "ipython3",
   "version": "3.9.5"
  }
 },
 "nbformat": 4,
 "nbformat_minor": 5
}
