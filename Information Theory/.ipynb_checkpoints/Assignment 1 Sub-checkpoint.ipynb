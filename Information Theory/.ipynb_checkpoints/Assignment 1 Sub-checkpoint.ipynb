{
 "cells": [
  {
   "cell_type": "code",
   "execution_count": 1,
   "id": "7f923c6c",
   "metadata": {},
   "outputs": [],
   "source": [
    "import numpy as np"
   ]
  },
  {
   "cell_type": "code",
   "execution_count": 2,
   "id": "7323ba47",
   "metadata": {},
   "outputs": [],
   "source": [
    "np.random.seed(11042)\n",
    "a = np.random.rand(10000, 1)\n",
    "pmf = a / np.sum(a)"
   ]
  },
  {
   "cell_type": "code",
   "execution_count": 3,
   "id": "af775fd9",
   "metadata": {},
   "outputs": [],
   "source": [
    "def mutual_information(pmf, i, j):\n",
    "    pmf_i = np.zeros(10)\n",
    "    pmf_j = np.zeros(10)\n",
    "    pmf_ij = np.zeros([10, 10])\n",
    "    \n",
    "    scale_i = [1, 10, 100, 1000]\n",
    "    scale_j = [1, 10, 100, 1000]\n",
    "    scale_ij = [1, 10, 100, 1000]\n",
    "    \n",
    "    val_i = scale_i.pop(i)\n",
    "    scale_i = np.array(scale_i)\n",
    "    val_j = scale_j.pop(j)\n",
    "    scale_j = np.array(scale_j)\n",
    "    scale_ij.remove(val_i)\n",
    "    scale_ij.remove(val_j)\n",
    "    \n",
    "    for a in range(10):\n",
    "        for ax in range(10):\n",
    "            for ay in range(10):\n",
    "                for az in range(10):\n",
    "                    mul = np.array([az, ay, ax])\n",
    "                    index_i = np.dot(mul, scale_i) + (a * val_i)\n",
    "                    index_j = np.dot(mul, scale_j) + (a * val_j)\n",
    "                    pmf_i[a] += pmf[index_i]\n",
    "                    pmf_j[a] += pmf[index_j]\n",
    "    \n",
    "    for ai in range(10):\n",
    "        for aj in range(10):\n",
    "            for ax in range(10):\n",
    "                for ay in range(10):\n",
    "                    index_ij = np.dot(np.array([ay, ax]), scale_ij) + (aj * val_j) + (ai * val_i)\n",
    "                    pmf_ij[ai][aj] += pmf[index_ij]\n",
    "    \n",
    "    answer = 0\n",
    "    \n",
    "    for ai in range(10):\n",
    "        for aj in range(10):\n",
    "            answer += (pmf_ij[ai][aj] * np.log2(pmf_ij[ai][aj] / (pmf_i[ai] * pmf_j[aj])))\n",
    "    \n",
    "    return answer"
   ]
  },
  {
   "cell_type": "code",
   "execution_count": 4,
   "id": "dcddde8e",
   "metadata": {},
   "outputs": [
    {
     "name": "stdout",
     "output_type": "stream",
     "text": [
      "0 and 1: 0.0016344917492465414\n",
      "0 and 2: 0.0018682353725361365\n",
      "0 and 3: 0.002299565349265442\n",
      "1 and 2: 0.002191319570816404\n",
      "1 and 3: 0.0016618914788052645\n",
      "2 and 3: 0.0022063895435565986\n"
     ]
    }
   ],
   "source": [
    "for i in range(4):\n",
    "    for j in range(i+1, 4):\n",
    "        print(f\"{i} and {j}: {mutual_information(pmf, i, j)}\")"
   ]
  }
 ],
 "metadata": {
  "kernelspec": {
   "display_name": "Python 3 (ipykernel)",
   "language": "python",
   "name": "python3"
  },
  "language_info": {
   "codemirror_mode": {
    "name": "ipython",
    "version": 3
   },
   "file_extension": ".py",
   "mimetype": "text/x-python",
   "name": "python",
   "nbconvert_exporter": "python",
   "pygments_lexer": "ipython3",
   "version": "3.9.5"
  }
 },
 "nbformat": 4,
 "nbformat_minor": 5
}
