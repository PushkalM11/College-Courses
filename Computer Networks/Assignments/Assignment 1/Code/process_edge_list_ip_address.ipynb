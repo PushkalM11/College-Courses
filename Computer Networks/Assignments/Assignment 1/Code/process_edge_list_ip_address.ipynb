{
 "cells": [
  {
   "cell_type": "code",
   "execution_count": 1,
   "metadata": {},
   "outputs": [],
   "source": [
    "import csv\n",
    "import numpy as np"
   ]
  },
  {
   "cell_type": "code",
   "execution_count": 2,
   "metadata": {},
   "outputs": [],
   "source": [
    "def read_file(filename):\n",
    "    output = []\n",
    "    with open(filename) as f:\n",
    "        data = f.readlines()\n",
    "        output = [x.strip() for x in data]\n",
    "    return output\n",
    "\n",
    "def write_csv_file(filename, fields, data):\n",
    "    with open(filename, 'w') as csvfile:\n",
    "        csvwriter = csv.writer(csvfile)\n",
    "        csvwriter.writerow(fields)\n",
    "        csvwriter.writerows(data)"
   ]
  },
  {
   "cell_type": "code",
   "execution_count": 3,
   "metadata": {},
   "outputs": [],
   "source": [
    "csv_file_name = \"./../Data V2/Edge_list_ip_address.csv\"\n",
    "edge_list = []\n",
    "\n",
    "with open(csv_file_name, 'r') as f:\n",
    "    reader = csv.reader(f)\n",
    "    edge_list = list(reader)"
   ]
  },
  {
   "cell_type": "code",
   "execution_count": 4,
   "metadata": {},
   "outputs": [],
   "source": [
    "tmp_edge_list = []\n",
    "\n",
    "for i, edge in enumerate(edge_list):\n",
    "    source, source_ip, target, target_ip, edge_weight = edge\n",
    "    try:\n",
    "        source = int(source)\n",
    "        target = int(target)\n",
    "        if source == -100 and target == -100:\n",
    "            continue\n",
    "        else:\n",
    "            tmp_edge_list.append([source, source_ip, target, target_ip, edge_weight])\n",
    "    except:\n",
    "        continue"
   ]
  },
  {
   "cell_type": "code",
   "execution_count": 5,
   "metadata": {},
   "outputs": [],
   "source": [
    "fields = ['Source - AS', 'Source - IP', 'Target - AS', 'Target - IP', 'Type', 'RTTD']\n",
    "source_1, source_2, source_3, source_4, source_5 = [], [], [], [], []\n",
    "flag = -1\n",
    "\n",
    "for edge in tmp_edge_list:\n",
    "    if edge[0] == -1:\n",
    "        flag = 1\n",
    "    elif edge[0] == -2:\n",
    "        flag = 2\n",
    "    elif edge[0] == -3:\n",
    "        flag = 3\n",
    "    elif edge[0] == -4:\n",
    "        flag = 4\n",
    "    elif edge[0] == -5:\n",
    "        flag = 5\n",
    "    \n",
    "    if flag == 1:\n",
    "        source_1.append(edge[ : 4] + ['Directed'] + edge[4 : ])\n",
    "    elif flag == 2:\n",
    "        source_2.append(edge[ : 4] + ['Directed'] + edge[4 : ])\n",
    "    elif flag == 3:\n",
    "        source_3.append(edge[ : 4] + ['Directed'] + edge[4 : ])\n",
    "    elif flag == 4:\n",
    "        source_4.append(edge[ : 4] + ['Directed'] + edge[4 : ])\n",
    "    elif flag == 5:\n",
    "        source_5.append(edge[ : 4] + ['Directed'] + edge[4 : ])"
   ]
  },
  {
   "cell_type": "code",
   "execution_count": 6,
   "metadata": {},
   "outputs": [],
   "source": [
    "def filter_edge_list(source):\n",
    "    new_source = []\n",
    "    \n",
    "    for i, edge in enumerate(source):\n",
    "        if edge[0] == -100:\n",
    "            prev_edge = new_source[-1]\n",
    "            new_edge = [prev_edge[0], prev_edge[1], edge[2], edge[3], 'Directed', str(float(prev_edge[-1]) + float(edge[-1]))]\n",
    "            new_source.pop()\n",
    "            new_source.append(new_edge)\n",
    "        else:\n",
    "            new_source.append(edge)\n",
    "    \n",
    "    return new_source "
   ]
  },
  {
   "cell_type": "code",
   "execution_count": 7,
   "metadata": {},
   "outputs": [],
   "source": [
    "new_source_1 = filter_edge_list(source_1)\n",
    "new_source_2 = filter_edge_list(source_2)\n",
    "new_source_3 = filter_edge_list(source_3)\n",
    "new_source_4 = filter_edge_list(source_4)\n",
    "new_source_5 = filter_edge_list(source_5)"
   ]
  },
  {
   "cell_type": "code",
   "execution_count": 8,
   "metadata": {},
   "outputs": [],
   "source": [
    "csv_filename = \"./../Data V2/Source_1_ip_address.csv\"\n",
    "write_csv_file(csv_filename, fields, new_source_1)\n",
    "    \n",
    "csv_filename = \"./../Data V2/Source_2_ip_address.csv\"\n",
    "write_csv_file(csv_filename, fields, new_source_2)\n",
    "\n",
    "csv_filename = \"./../Data V2/Source_3_ip_address.csv\"\n",
    "write_csv_file(csv_filename, fields, new_source_3)\n",
    "\n",
    "csv_filename = \"./../Data V2/Source_4_ip_address.csv\"\n",
    "write_csv_file(csv_filename, fields, new_source_4)\n",
    "    \n",
    "csv_filename = \"./../Data V2/Source_5_ip_address.csv\"\n",
    "write_csv_file(csv_filename, fields, new_source_5)"
   ]
  },
  {
   "cell_type": "code",
   "execution_count": 9,
   "metadata": {},
   "outputs": [],
   "source": [
    "cumulative_source = new_source_1 + new_source_2 + new_source_3 + new_source_4 + new_source_5\n",
    "csv_filename = \"./../Data V2/Cumulative_data_ip_address.csv\"\n",
    "write_csv_file(csv_filename, fields, cumulative_source)"
   ]
  }
 ],
 "metadata": {
  "kernelspec": {
   "display_name": "Python 3",
   "language": "python",
   "name": "python3"
  },
  "language_info": {
   "codemirror_mode": {
    "name": "ipython",
    "version": 3
   },
   "file_extension": ".py",
   "mimetype": "text/x-python",
   "name": "python",
   "nbconvert_exporter": "python",
   "pygments_lexer": "ipython3",
   "version": "3.9.5"
  },
  "orig_nbformat": 4
 },
 "nbformat": 4,
 "nbformat_minor": 2
}
