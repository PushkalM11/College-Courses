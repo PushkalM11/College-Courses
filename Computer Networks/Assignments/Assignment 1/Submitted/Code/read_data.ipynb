{
 "cells": [
  {
   "cell_type": "code",
   "execution_count": 1,
   "metadata": {},
   "outputs": [],
   "source": [
    "import os\n",
    "import csv\n",
    "import numpy as np\n",
    "from ipwhois import IPWhois"
   ]
  },
  {
   "cell_type": "code",
   "execution_count": 2,
   "metadata": {},
   "outputs": [],
   "source": [
    "data_dir = \"./../Raw Data/\"\n",
    "destinations = [i[ : -4] for i in os.listdir(data_dir)]\n",
    "n_destinations = len(destinations)\n",
    "n_sources = 1\n",
    "\n",
    "data = []"
   ]
  },
  {
   "cell_type": "code",
   "execution_count": 3,
   "metadata": {},
   "outputs": [
    {
     "data": {
      "text/plain": [
       "['schum',\n",
       " 'virgin',\n",
       " 'cambridge',\n",
       " 'watch_jp',\n",
       " 'talktalk',\n",
       " 'tripmall',\n",
       " 'cmu',\n",
       " 'discord',\n",
       " 'craig',\n",
       " 'columbia']"
      ]
     },
     "execution_count": 3,
     "metadata": {},
     "output_type": "execute_result"
    }
   ],
   "source": [
    "destinations"
   ]
  },
  {
   "cell_type": "code",
   "execution_count": 4,
   "metadata": {},
   "outputs": [],
   "source": [
    "def read_file(filename):\n",
    "    output = []\n",
    "    with open(filename) as f:\n",
    "        data = f.readlines()\n",
    "        output = [x.strip() for x in data]\n",
    "    return output"
   ]
  },
  {
   "cell_type": "code",
   "execution_count": 5,
   "metadata": {},
   "outputs": [],
   "source": [
    "IP_address_file = \"./../Processed Data/IP_Address_list.txt\"\n",
    "AS_number_file = \"./../Processed Data/AS_Number_list.txt\"\n",
    "\n",
    "ip_address_list = read_file(IP_address_file)\n",
    "as_number_list = read_file(AS_number_file)"
   ]
  },
  {
   "cell_type": "code",
   "execution_count": 6,
   "metadata": {},
   "outputs": [],
   "source": [
    "def get_AS_number(ip_address):\n",
    "    if ip_address in ip_address_list:\n",
    "        return as_number_list[ip_address_list.index(ip_address)]\n",
    "    else:\n",
    "        ip_address_list.append(ip_address)\n",
    "        try:\n",
    "            as_number = IPWhois(ip_address).lookup_rdap()['asn']\n",
    "            if as_number == 'NA':\n",
    "                as_number = -100\n",
    "            elif as_number == '':\n",
    "                as_number = -100\n",
    "        except:\n",
    "            as_number = -100\n",
    "        as_number_list.append(as_number)\n",
    "    return as_number"
   ]
  },
  {
   "cell_type": "code",
   "execution_count": 7,
   "metadata": {},
   "outputs": [],
   "source": [
    "sources_label = [-1, -2, -3, -4, -5]\n",
    "destinations_label = [-6, -7, -8, -9, -10, -11, -12, -13, -14, -15]\n",
    "fields = ['Source - AS', 'Source - IP', 'Target - AS', 'Target - IP', 'RTTD']\n",
    "edge_list = []"
   ]
  },
  {
   "cell_type": "code",
   "execution_count": 12,
   "metadata": {},
   "outputs": [],
   "source": [
    "%%capture cap --no-stderr\n",
    "tmp = 1\n",
    "flag = 0\n",
    "tmp_edge_list = []\n",
    "\n",
    "for i_dest, destination in enumerate(destinations):\n",
    "    source_i = -1\n",
    "    with open(data_dir + destination + \".txt\", \"r\") as f:\n",
    "        lines = f.readlines()\n",
    "        lines = [line.strip().split() for line in lines]\n",
    "        prev_as_number, prev_ip_address, rttd_prev = -100, 0, 0 \n",
    "        \n",
    "        for i, line in enumerate(lines):\n",
    "            if 'traceroute' in line or 'Tracing' in line or 'Trace' in line:\n",
    "                source_i += 1\n",
    "                prev_as_number, rttd_prev = -100, 0\n",
    "                flag = 1\n",
    "                print(f\"\\n\")\n",
    "                continue\n",
    "            \n",
    "            print(line)\n",
    "            \n",
    "            if line == []:\n",
    "                continue\n",
    "            elif '*' in line:\n",
    "                continue\n",
    "            \n",
    "            if source_i == 0:\n",
    "                if line[2] == 'ms':\n",
    "                    rttd = np.average([int(line[1]), int(line[3]), int(line[5])])\n",
    "                    ip_address = line[-1].replace('[', '').replace(']', '')\n",
    "                    as_number = get_AS_number(ip_address)\n",
    "                else:\n",
    "                    ip_address = line[1]\n",
    "                    rttd = np.average([float(line[2][ : -3]), float(line[3][ : -3]), float(line[4][ : -3])])\n",
    "                    as_number = get_AS_number(ip_address)\n",
    "                source = prev_as_number\n",
    "                if flag:\n",
    "                    source = sources_label[source_i]\n",
    "                flag = 0\n",
    "                \n",
    "            elif source_i == 1:\n",
    "                try:\n",
    "                    tmp = int(line[0])\n",
    "                    ip_address = line[2].replace('(', '').replace(')', '')\n",
    "                    rttd = float(line[3])\n",
    "                    as_number = get_AS_number(ip_address)\n",
    "                except:\n",
    "                    continue\n",
    "                source = prev_as_number\n",
    "                if flag:\n",
    "                    source = sources_label[source_i]\n",
    "                    tmp_edge_list[-1][1] = destinations_label[i_dest]\n",
    "                flag = 0\n",
    "                \n",
    "            elif source_i == 2:\n",
    "                rttd = np.average([float(line[1]), float(line[3]), float(line[5])])\n",
    "                ip_address = line[-1].replace('[', '').replace(']', '')\n",
    "                as_number = get_AS_number(ip_address)\n",
    "                source = prev_as_number\n",
    "                if flag:\n",
    "                    source = sources_label[source_i]\n",
    "                    tmp_edge_list[-1][1] = destinations_label[i_dest]\n",
    "                flag = 0\n",
    "                \n",
    "            elif source_i == 3:\n",
    "                # if line[2] == 'ms':\n",
    "                #     rttd = np.average([int(line[1]), int(line[3]), int(line[5])])\n",
    "                #     ip_address = line[-1].replace('[', '').replace(']', '')\n",
    "                #     as_number = get_AS_number(ip_address)\n",
    "                # else:\n",
    "                ip_address = line[2].replace('(', '').replace(')', '')\n",
    "                rttd = np.average([float(line[-2]), float(line[-4])])\n",
    "                as_number = get_AS_number(ip_address)\n",
    "                source = prev_as_number\n",
    "                \n",
    "                if flag:\n",
    "                    source = sources_label[source_i]\n",
    "                    tmp_edge_list[-1][1] = destinations_label[i_dest]\n",
    "                flag = 0\n",
    "                \n",
    "            else:\n",
    "                rttd = float(line[-2])\n",
    "                ip_address = line[-3].replace('(', '').replace(')', '')\n",
    "                as_number = get_AS_number(ip_address)\n",
    "                source = prev_as_number\n",
    "                \n",
    "                if flag:\n",
    "                    source = sources_label[source_i]\n",
    "                    tmp_edge_list[-1][1] = destinations_label[i_dest]\n",
    "                flag = 0\n",
    "                \n",
    "            rttd = int(100 * rttd) / 100.0\n",
    "            print(\"IP Address: \", ip_address)\n",
    "            print(\"Round Trip Delay: \", rttd) \n",
    "            print(\"AS Number: \", as_number)\n",
    "            print(f\"\\n\")\n",
    "            \n",
    "            if i > 0:\n",
    "                target = as_number\n",
    "                edge = [source, prev_ip_address, target, ip_address, abs(rttd - rttd_prev)]\n",
    "                tmp_edge_list.append(edge)\n",
    "                tmp += 1\n",
    "            prev_as_number, prev_ip_address, rttd_prev = as_number, ip_address, rttd\n",
    "    tmp_edge_list[-1][1] = destinations_label[i_dest]\n",
    "\n",
    "edge_list = tmp_edge_list\n",
    "with open('output_v2.txt', 'w') as f:\n",
    "    f.write(cap.stdout)"
   ]
  },
  {
   "cell_type": "code",
   "execution_count": 13,
   "metadata": {},
   "outputs": [],
   "source": [
    "with open(\"./../Processed Data/IP_Address_list.txt\", \"w\") as f:\n",
    "    for ip_address in ip_address_list:\n",
    "        f.write(ip_address + \"\\n\")\n",
    "\n",
    "with open(\"./../Processed Data/AS_Number_list.txt\", \"w\") as f:\n",
    "    for as_number in as_number_list:\n",
    "        f.write(str(as_number) + \"\\n\")\n",
    "\n",
    "csv_filename = \"./../Processed Data/Edge_list_ip_address.csv\"\n",
    "with open(csv_filename, 'w') as csvfile: \n",
    "    csvwriter = csv.writer(csvfile) \n",
    "    csvwriter.writerow(fields) \n",
    "    csvwriter.writerows(edge_list)"
   ]
  },
  {
   "cell_type": "code",
   "execution_count": 14,
   "metadata": {},
   "outputs": [
    {
     "data": {
      "text/plain": [
       "array([  -100,      9,     14,    174,    786,   1299,   2381,   2497,\n",
       "         2519,   2828,   2914,   3257,   3356,   3549,   4694,   4713,\n",
       "         4755,   5089,   6453,   6461,   6830,   7922,   9371,   9498,\n",
       "        11164,  11537,  13335,  14877,  20860,  20965,  22414,  35425,\n",
       "        36236,  55824,  55836,  59193,  64049, 131965])"
      ]
     },
     "execution_count": 14,
     "metadata": {},
     "output_type": "execute_result"
    }
   ],
   "source": [
    "as_number_list_new = []\n",
    "for asn in as_number_list:\n",
    "    try:\n",
    "        as_number_list_new.append(int(asn))\n",
    "    except:\n",
    "        continue\n",
    "np.unique(as_number_list_new)"
   ]
  }
 ],
 "metadata": {
  "kernelspec": {
   "display_name": "Python 3",
   "language": "python",
   "name": "python3"
  },
  "language_info": {
   "codemirror_mode": {
    "name": "ipython",
    "version": 3
   },
   "file_extension": ".py",
   "mimetype": "text/x-python",
   "name": "python",
   "nbconvert_exporter": "python",
   "pygments_lexer": "ipython3",
   "version": "3.9.5"
  },
  "orig_nbformat": 4
 },
 "nbformat": 4,
 "nbformat_minor": 2
}
