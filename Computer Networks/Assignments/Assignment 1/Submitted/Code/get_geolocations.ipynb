{
 "cells": [
  {
   "cell_type": "code",
   "execution_count": 8,
   "metadata": {},
   "outputs": [],
   "source": [
    "import csv\n",
    "import json\n",
    "import requests\n",
    "from ipwhois import IPWhois"
   ]
  },
  {
   "cell_type": "code",
   "execution_count": 9,
   "metadata": {},
   "outputs": [],
   "source": [
    "def read_file(filename):\n",
    "    output = []\n",
    "    with open(filename) as f:\n",
    "        data = f.readlines()\n",
    "        output = [x.strip() for x in data]\n",
    "    return output"
   ]
  },
  {
   "cell_type": "code",
   "execution_count": 10,
   "metadata": {},
   "outputs": [],
   "source": [
    "IP_address_file = \"./../Processed Data/IP_Address_list.txt\"\n",
    "AS_number_file = \"./../Processed Data/AS_Number_list.txt\"\n",
    "\n",
    "ip_address_list = read_file(IP_address_file)\n",
    "as_number_list = read_file(AS_number_file)"
   ]
  },
  {
   "cell_type": "code",
   "execution_count": 11,
   "metadata": {},
   "outputs": [],
   "source": [
    "def get_geolocation(ip_address):\n",
    "    request_url = 'https://geolocation-db.com/jsonp/' + ip_address\n",
    "    response = requests.get(request_url)\n",
    "    result = response.content.decode()\n",
    "    result = result.split(\"(\")[1].strip(\")\")\n",
    "    result  = json.loads(result)\n",
    "    return result"
   ]
  },
  {
   "cell_type": "code",
   "execution_count": 21,
   "metadata": {},
   "outputs": [],
   "source": [
    "data = []\n",
    "data_1 = []\n",
    "\n",
    "for i, ip in enumerate(ip_address_list):\n",
    "    if as_number_list[i] == \"-100\" or as_number_list == 'None':\n",
    "        continue\n",
    "    else:\n",
    "        result = get_geolocation(ip)\n",
    "        city = result['city']\n",
    "        country_code = result['country_code']\n",
    "        latitude = result['latitude']\n",
    "        longitude = result['longitude']\n",
    "        \n",
    "        whois_result = IPWhois(ip).lookup_whois()\n",
    "        ip_range = whois_result['nets'][0]['range']\n",
    "        description = whois_result['nets'][0]['description']\n",
    "        \n",
    "        data.append([as_number_list[i], ip, city, country_code, latitude, longitude])\n",
    "        data_1.append([as_number_list[i], ip_range, city, country_code, description])"
   ]
  },
  {
   "cell_type": "code",
   "execution_count": 22,
   "metadata": {},
   "outputs": [],
   "source": [
    "fields = ['AS Number', 'IP Address', 'City', 'Country Code', 'Latitude', 'Longitude']\n",
    "csv_filename = \"./../Processed Data/AS_Number_IP_Address_Country_Code.csv\"\n",
    "\n",
    "with open(csv_filename, 'w') as csvfile:\n",
    "    csvwriter = csv.writer(csvfile)\n",
    "    csvwriter.writerow(fields)\n",
    "    csvwriter.writerows(data)"
   ]
  },
  {
   "cell_type": "code",
   "execution_count": 24,
   "metadata": {},
   "outputs": [],
   "source": [
    "fields = ['AS Number', 'IP Range', 'City', 'Country Code', 'Description']\n",
    "csv_filename = \"./../Processed Data/IP_address_range.csv\"\n",
    "\n",
    "with open(csv_filename, 'w') as csvfile:\n",
    "    csvwriter = csv.writer(csvfile)\n",
    "    csvwriter.writerow(fields)\n",
    "    csvwriter.writerows(data_1)"
   ]
  }
 ],
 "metadata": {
  "kernelspec": {
   "display_name": "Python 3",
   "language": "python",
   "name": "python3"
  },
  "language_info": {
   "codemirror_mode": {
    "name": "ipython",
    "version": 3
   },
   "file_extension": ".py",
   "mimetype": "text/x-python",
   "name": "python",
   "nbconvert_exporter": "python",
   "pygments_lexer": "ipython3",
   "version": "3.9.5"
  },
  "orig_nbformat": 4
 },
 "nbformat": 4,
 "nbformat_minor": 2
}
