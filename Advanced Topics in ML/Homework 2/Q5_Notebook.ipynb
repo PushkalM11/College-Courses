{
 "cells": [
  {
   "cell_type": "markdown",
   "metadata": {
    "id": "1tuV2xZICFtJ"
   },
   "source": [
    "# **AI3001: Advanced Topics in Machine Learning**\n",
    "Homework 2 - Question 5 <br>\n",
    "Name- Pushkal Mishra <br>\n",
    "Roll- EE20BTECH11042 <br>"
   ]
  },
  {
   "cell_type": "markdown",
   "metadata": {
    "id": "2lhYIjIjCM58"
   },
   "source": [
    "## **Importing all the necessary libraries**"
   ]
  },
  {
   "cell_type": "code",
   "execution_count": null,
   "metadata": {
    "id": "1HGed3Rfaw10"
   },
   "outputs": [],
   "source": [
    "import numpy as np\n",
    "import math\n",
    "import matplotlib.pyplot as plt"
   ]
  },
  {
   "cell_type": "markdown",
   "metadata": {
    "id": "DeOyhqQbC7xC"
   },
   "source": [
    "## **Declaring some constants**"
   ]
  },
  {
   "cell_type": "code",
   "execution_count": null,
   "metadata": {
    "id": "025e1ibLlAND"
   },
   "outputs": [],
   "source": [
    "all_K = [10, 20, 50, 100]\n",
    "all_T = [1000, 10000, 50000, 100000, 500000, 1000000, 5000000]\n",
    "T_map = {1000 : 0, 10000 : 1, 50000 : 2, 100000 : 3, 500000 : 4, 1000000 : 5, 5000000 : 6}\n",
    "runs = 500"
   ]
  },
  {
   "cell_type": "markdown",
   "metadata": {
    "id": "RZyAmQWWDC6z"
   },
   "source": [
    "## **For EXP3-γ**"
   ]
  },
  {
   "cell_type": "code",
   "execution_count": null,
   "metadata": {
    "id": "DzY-7ZPVFYGm"
   },
   "outputs": [],
   "source": [
    "error = []\n",
    "exp3_regret = []\n",
    "\n",
    "for K in all_K:\n",
    "\n",
    "  mu = np.zeros(K, dtype = np.float32)\n",
    "    \n",
    "  for i in range(K):\n",
    "    mu[i] = 1 - (i + 1) / (K + 1)\n",
    "    \n",
    "  indexes = np.arange(K)\n",
    "  regret = np.zeros(len(all_T))\n",
    "\n",
    "  for T in all_T:\n",
    " \n",
    "    gamma = ((K * math.log(K)) / (2 * T)) ** 0.5\n",
    "    c1 = gamma / K\n",
    "    c2 = c1 * np.ones(K, dtype = np.float32)\n",
    "\n",
    "    for run in range(runs):\n",
    "\n",
    "      reg = 0\n",
    "      weights = np.ones(K, dtype = np.float32)\n",
    "    \n",
    "      for t in range(T):\n",
    "        \n",
    "        if (t % 1000) == 0:\n",
    "          print(f\"K: {K}  T: {T}  Run: {run + 1}  t: {t + 1}\")\n",
    "        \n",
    "        weights_sum = np.sum(weights)\n",
    "        \n",
    "        c3 = (1 - gamma) / weights_sum\n",
    "        \n",
    "        p_t = c2 + (c3 * weights)\n",
    "        sum_p_t = np.sum(p_t)\n",
    "\n",
    "        if np.isnan(sum_p_t):\n",
    "          # regret[T_map[T]] -= reg\n",
    "          error.append(f\"Run: {run + 1}  T: {T}  t: {t + 1}\")\n",
    "          break\n",
    "\n",
    "        p_t /= sum_p_t\n",
    "        i_t = np.random.choice(indexes, size = 1, p = p_t)\n",
    "        r_i_t = np.random.binomial(1, mu[i_t])\n",
    "        r_i_t_hat = r_i_t / p_t[i_t]\n",
    "        r_i_star = np.random.binomial(1, mu[0])\n",
    "        \n",
    "        weights[i_t] *= math.exp(c1 * r_i_t_hat)\n",
    "\n",
    "        reg += (r_i_star - r_i_t)\n",
    "        regret[T_map[T]] += (r_i_star - r_i_t)\n",
    "\n",
    "    regret[T_map[T]] /= runs\n",
    "  exp3_regret.append(regret)"
   ]
  },
  {
   "cell_type": "code",
   "execution_count": null,
   "metadata": {
    "colab": {
     "base_uri": "https://localhost:8080/",
     "height": 299
    },
    "id": "DkdulPKUUiLL",
    "outputId": "772158a6-65af-4f31-d7d9-37b923e39b5c"
   },
   "outputs": [],
   "source": [
    "legend = [\"K = 10\", \"K = 20\", \"K = 50\", \"K = 100\"]\n",
    "plt.xlabel(\"Time Horizon T\")\n",
    "plt.ylabel(\"Regret\")\n",
    "plt.title(\"Using EXP3-γ algorithm\")\n",
    "plt.xscale(\"log\")\n",
    "plt.yscale(\"log\")\n",
    "for i in range(len(exp3_regret)):\n",
    "  plt.plot(all_T, exp3_regret[i], marker = 'o')\n",
    "plt.legend(legend)\n",
    "plt.show()"
   ]
  },
  {
   "cell_type": "markdown",
   "metadata": {
    "id": "m-i7_8-eDk4a"
   },
   "source": [
    "## **For exploration separated algorithm**"
   ]
  },
  {
   "cell_type": "code",
   "execution_count": null,
   "metadata": {
    "id": "SHOut0H1BxPD"
   },
   "outputs": [],
   "source": [
    "exploration_regret = []\n",
    "\n",
    "for K in all_K:\n",
    "  \n",
    "  mu = np.zeros(K, dtype = np.float32)\n",
    "    \n",
    "  for i in range(K):\n",
    "    mu[i] = 1 - (i + 1) / (K + 1)\n",
    "    \n",
    "  regret = np.zeros(len(all_T))\n",
    "\n",
    "  for T in all_T:\n",
    "\n",
    "    epsilon = T ** (-1.0 / 3.0)\n",
    "    exploration = int((epsilon * T) / K) * K\n",
    "\n",
    "    for run in range(runs):\n",
    "\n",
    "      S = np.zeros(K, dtype = np.float32)\n",
    "      N = np.zeros(K, dtype = np.float32)\n",
    "      \n",
    "      for t in range(exploration):\n",
    "\n",
    "        i_t = (t % K)\n",
    "        N[i_t] += 1\n",
    "\n",
    "        r_i_t = np.random.binomial(1, mu[i_t])\n",
    "        r_i_star = np.random.binomial(1, mu[0])\n",
    "        \n",
    "        S[i_t] = S[i_t] + r_i_t\n",
    "        regret[T_map[T]] += (r_i_star - r_i_t)\n",
    "\n",
    "      mu_hat = S / N\n",
    "      mu_max_value = max(mu_hat)\n",
    "      lst = mu_hat.tolist()\n",
    "      i_mu_max = lst.index(mu_max_value)\n",
    "\n",
    "      for t in range(T - exploration):\n",
    "\n",
    "        r_i_mu_max = np.random.binomial(1, mu[i_mu_max])\n",
    "        r_i_star = np.random.binomial(1, mu[0])\n",
    "        regret[T_map[T]] += (r_i_star - r_i_t)\n",
    "\n",
    "    regret[T_map[T]] /= runs\n",
    "  \n",
    "  exploration_regret.append(regret)"
   ]
  },
  {
   "cell_type": "code",
   "execution_count": null,
   "metadata": {
    "colab": {
     "base_uri": "https://localhost:8080/",
     "height": 299
    },
    "id": "8bEwLUx9QJI2",
    "outputId": "72e93057-fdd6-4728-8053-d01b7999d7a7"
   },
   "outputs": [],
   "source": [
    "legend = [\"K = 10\", \"K = 20\", \"K = 50\", \"K = 100\"]\n",
    "plt.xlabel(\"Time Horizon T\")\n",
    "plt.ylabel(\"Regret\")\n",
    "plt.title(\"Using Exploration-separated algorithm\")\n",
    "plt.xscale(\"log\")\n",
    "# plt.yscale(\"log\")\n",
    "for i in range(len(exploration_regret)):\n",
    "  plt.plot(all_T, exploration_regret[i], marker = 'o')\n",
    "plt.legend(legend)\n",
    "plt.show()"
   ]
  },
  {
   "cell_type": "markdown",
   "metadata": {
    "id": "F3hHUqStCsqy"
   },
   "source": [
    "## **For UCB-1**"
   ]
  },
  {
   "cell_type": "code",
   "execution_count": null,
   "metadata": {
    "id": "o_mjaYK_Cw6b"
   },
   "outputs": [],
   "source": [
    "ucb1_regret = []\n",
    "\n",
    "for K in all_K:\n",
    "\n",
    "  mu = np.zeros(K, dtype = np.float32)\n",
    "    \n",
    "  for i in range(K):\n",
    "    mu[i] = 1 - (i + 1) / (K + 1)\n",
    "    \n",
    "  regret = np.zeros(len(all_T))\n",
    "\n",
    "  for T in all_T:\n",
    "\n",
    "    for run in range(runs):\n",
    "\n",
    "      ucb_scores = np.zeros(K, dtype = np.float32)\n",
    "      num_visited = np.zeros(K)\n",
    "\n",
    "      for t in range(K):\n",
    "        \n",
    "        r_i_1 = np.random.binomial(1, mu[t])\n",
    "        num_visited[t] += 1\n",
    "        mu_hat = r_i_1 / num_visited[t]\n",
    "\n",
    "        ucb_scores[t] = mu_hat + np.sqrt((2 * np.log(t + 1)) / num_visited[t])\n",
    "\n",
    "        r_i_star = np.random.binomial(1, mu[0])\n",
    "        regret[T_map[T]] += (r_i_star - r_i_1)\n",
    "      \n",
    "      for t in range(T - K):\n",
    "\n",
    "        max_ucb_score = max(ucb_scores)\n",
    "        lst = ucb_scores.tolist()\n",
    "        i_t = lst.index(max_ucb_score)\n",
    "        \n",
    "        r_i_t = np.random.binomial(1, mu[i_t])\n",
    "        num_visited[i_t] += 1\n",
    "        mu_hat_i_t = r_i_t / num_visited[i_t]\n",
    "\n",
    "        ucb_scores[i_t] = mu_hat_i_t + np.sqrt((2 * np.log(K + t + 1)) / num_visited[i_t])\n",
    "\n",
    "        r_i_star = np.random.binomial(1, mu[0])\n",
    "        regret[T_map[T]] += (r_i_star - r_i_t)\n",
    "    \n",
    "    regret[T_map[T]] /= runs\n",
    "  \n",
    "  ucb1_regret.append(regret)"
   ]
  },
  {
   "cell_type": "code",
   "execution_count": null,
   "metadata": {
    "colab": {
     "base_uri": "https://localhost:8080/",
     "height": 295
    },
    "id": "vswzbzwSQKov",
    "outputId": "3e6ebd73-e687-447d-bd93-430f9c686580"
   },
   "outputs": [],
   "source": [
    "legend = [\"K = 10\", \"K = 20\", \"K = 50\", \"K = 100\"]\n",
    "plt.xlabel(\"Time Horizon T\")\n",
    "plt.ylabel(\"Regret\")\n",
    "plt.title(\"Using UCB-1 algorithm\")\n",
    "plt.xscale(\"log\")\n",
    "# plt.yscale(\"log\")\n",
    "for i in range(len(ucb1_regret)):\n",
    "  plt.plot(all_T, ucb1_regret[i], marker = 'o')\n",
    "plt.legend(legend)\n",
    "plt.show()"
   ]
  },
  {
   "cell_type": "markdown",
   "metadata": {
    "id": "e7fma6o1L4ae"
   },
   "source": [
    "## **For Thompson sampling**"
   ]
  },
  {
   "cell_type": "code",
   "execution_count": null,
   "metadata": {
    "id": "p0ZmGuEaL9CL"
   },
   "outputs": [],
   "source": [
    "thompson_regret = []\n",
    "\n",
    "for K in all_K:\n",
    "\n",
    "  mu = np.zeros(K, dtype = np.float32)\n",
    "\n",
    "  for i in range(K):\n",
    "    mu[i] = 1 - (i + 1) / (K + 1)\n",
    "    \n",
    "  regret = np.zeros(len(all_T))\n",
    "\n",
    "  for T in all_T:\n",
    "\n",
    "    for run in range(runs):\n",
    "\n",
    "      S = np.zeros(K, dtype = np.float32)\n",
    "      F = np.zeros(K, dtype = np.float32)\n",
    "      all_lambda = np.zeros(K, dtype = np.float32)\n",
    "\n",
    "      for t in range(T):\n",
    "\n",
    "        for i in range(K):\n",
    "\n",
    "          all_lambda[i] = np.random.beta(S[i] + 1, F[i] + 1)\n",
    "        \n",
    "        max_lambda = max(all_lambda)\n",
    "        lst = all_lambda.tolist()\n",
    "        i_t = lst.index(max_lambda)\n",
    "\n",
    "        r_i_t = np.random.binomial(1, mu[i_t])\n",
    "        r_i_star = np.random.binomial(1, mu[0])\n",
    "        regret[T_map[T]] += (r_i_star - r_i_t)\n",
    "\n",
    "        S[i_t] += r_i_t\n",
    "        F[i_t] += (1 - r_i_t)\n",
    "    \n",
    "    regret[T_map[T]] /= runs\n",
    "  \n",
    "  thompson_regret.append(regret)"
   ]
  },
  {
   "cell_type": "code",
   "execution_count": null,
   "metadata": {
    "id": "W4u00KpGQLP2"
   },
   "outputs": [],
   "source": [
    "legend = [\"K = 10\", \"K = 20\", \"K = 50\", \"K = 100\"]\n",
    "plt.xlabel(\"Time Horizon T\")\n",
    "plt.ylabel(\"Regret\")\n",
    "plt.title(\"Using Thompson sampling\")\n",
    "plt.xscale(\"log\")\n",
    "for i in range(len(thompson_regret)):\n",
    "  plt.plot(all_T, thompson_regret[i], marker = 'o')\n",
    "plt.legend(legend)\n",
    "plt.show()"
   ]
  }
 ],
 "metadata": {
  "colab": {
   "provenance": []
  },
  "kernelspec": {
   "display_name": "Python 3 (ipykernel)",
   "language": "python",
   "name": "python3"
  },
  "language_info": {
   "codemirror_mode": {
    "name": "ipython",
    "version": 3
   },
   "file_extension": ".py",
   "mimetype": "text/x-python",
   "name": "python",
   "nbconvert_exporter": "python",
   "pygments_lexer": "ipython3",
   "version": "3.9.5"
  }
 },
 "nbformat": 4,
 "nbformat_minor": 1
}
