{
 "cells": [
  {
   "cell_type": "code",
   "execution_count": null,
   "id": "8d4d5635",
   "metadata": {},
   "outputs": [],
   "source": [
    "from scipy.stats import zipf, weibull_min, lognorm, kstest\n",
    "\n",
    "dict_counts = count\n",
    "\n",
    "params_weibull = weibull_min.fit(dict_counts)\n",
    "params_lognorm = lognorm.fit(dict_counts)\n",
    "\n",
    "ll_zipf = zipf.logpmf(dict_counts, *params_zipf).sum()\n",
    "ll_weibull = weibull_min.logpdf(dict_counts, *params_weibull).sum()\n",
    "ll_lognorm = lognorm.logpdf(dict_counts, *params_lognorm).sum()\n",
    "\n",
    "if ll_zipf > ll_weibull and ll_zipf > ll_lognorm:\n",
    "    best_fit = 'Zipfian'\n",
    "    best_params = params_zipf\n",
    "elif ll_weibull > ll_lognorm:\n",
    "    best_fit = 'Weibull'\n",
    "    best_params = params_weibull\n",
    "else:\n",
    "    best_fit = 'Log-normal'\n",
    "    best_params = params_lognorm\n",
    "\n",
    "\n",
    "# Perform KS test to determine the goodness of fit\n",
    "p_zipf = kstest(dict_counts, 'zipf', args=params_zipf)[1]\n",
    "p_weibull = kstest(dict_counts, 'weibull_min', args=params_weibull)[1]\n",
    "p_lognorm = kstest(dict_counts, 'lognorm', args=params_lognorm)[1]\n",
    "\n",
    "# Print results\n",
    "# print('Best fit:', best_fit)\n",
    "# print('Best fit parameters:', best_params)\n",
    "print('Zipf =', p_zipf, 'Weibull =', p_weibull, 'Log-normal =', p_lognorm)"
   ]
  }
 ],
 "metadata": {
  "kernelspec": {
   "display_name": "Python 3 (ipykernel)",
   "language": "python",
   "name": "python3"
  },
  "language_info": {
   "codemirror_mode": {
    "name": "ipython",
    "version": 3
   },
   "file_extension": ".py",
   "mimetype": "text/x-python",
   "name": "python",
   "nbconvert_exporter": "python",
   "pygments_lexer": "ipython3",
   "version": "3.9.5"
  }
 },
 "nbformat": 4,
 "nbformat_minor": 5
}
