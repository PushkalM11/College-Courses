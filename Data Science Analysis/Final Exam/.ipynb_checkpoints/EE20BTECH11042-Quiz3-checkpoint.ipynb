{
 "cells": [
  {
   "cell_type": "markdown",
   "id": "03899552",
   "metadata": {},
   "source": [
    "<h1 align='center'>Data Science Analysis</h1>\n",
    "<h1 align='center'>Quiz 3</h1>\n",
    "<h2 align='center'>Pushkal Mishra</h2>\n",
    "<h2 align='center'>EE20BTECH11042</h2>"
   ]
  },
  {
   "cell_type": "markdown",
   "id": "9f9368c6",
   "metadata": {},
   "source": [
    "# Importing Libraries"
   ]
  },
  {
   "cell_type": "code",
   "execution_count": 1,
   "id": "7babd93d",
   "metadata": {},
   "outputs": [],
   "source": [
    "import numpy as np\n",
    "import scipy\n",
    "from scipy.stats import norm, chi2, poisson \n",
    "import matplotlib.pyplot as plt"
   ]
  },
  {
   "cell_type": "markdown",
   "id": "ca1e6a91",
   "metadata": {},
   "source": [
    "# Question 1"
   ]
  },
  {
   "cell_type": "code",
   "execution_count": 2,
   "id": "1209d91a",
   "metadata": {},
   "outputs": [],
   "source": [
    "def calculate_score(H0_exp1, H0_exp2, H0_exp1_err, H0_exp2_err):\n",
    "    # Significance from p-value is also known as Z-score\n",
    "    z_score = np.abs(H0_exp1 - H0_exp2) / np.sqrt(H0_exp1_err ** 2 + H0_exp2_err ** 2)\n",
    "    return z_score"
   ]
  },
  {
   "cell_type": "code",
   "execution_count": 3,
   "id": "b42ab0f4",
   "metadata": {},
   "outputs": [
    {
     "name": "stdout",
     "output_type": "stream",
     "text": [
      "The Z-score between measurements: 1.51402 sigmas.\n"
     ]
    }
   ],
   "source": [
    "H0_exp1, H0_exp2 = 67, 71\n",
    "H0_exp1_err, H0_exp2_err = 2.3, 1.3\n",
    "\n",
    "z_score = calculate_score(H0_exp1, H0_exp2, H0_exp1_err, H0_exp2_err)\n",
    "\n",
    "print(f\"The Z-score between measurements: {z_score:.5f} sigmas.\")"
   ]
  },
  {
   "cell_type": "markdown",
   "id": "730f1b48",
   "metadata": {},
   "source": [
    "# Question 2"
   ]
  },
  {
   "cell_type": "code",
   "execution_count": 4,
   "id": "3617ecea",
   "metadata": {},
   "outputs": [
    {
     "name": "stdout",
     "output_type": "stream",
     "text": [
      "The value for constant del Chi2 for an 85% confidence interval: 3.79424\n"
     ]
    }
   ],
   "source": [
    "free_params = 2\n",
    "confidence_interval = 0.85\n",
    "\n",
    "# This formula is from the slides of Second and Third week on page 17\n",
    "del_chi2 = chi2(free_params).ppf(confidence_interval)\n",
    "\n",
    "print(f\"The value for constant del Chi2 for an {int(confidence_interval * 100)}% confidence interval: {del_chi2:.5f}\")"
   ]
  },
  {
   "cell_type": "markdown",
   "id": "28165dca",
   "metadata": {},
   "source": [
    "# Question 3"
   ]
  },
  {
   "cell_type": "code",
   "execution_count": 5,
   "id": "f99e261d",
   "metadata": {},
   "outputs": [],
   "source": [
    "def calculate_del_BIC(num_data, chi2_vals, free_params):\n",
    "    A_chi2, B_chi2 = chi2_vals\n",
    "    A_free, B_free = free_params\n",
    "    \n",
    "    # Note that in this question, the reduced Chi2 value is given\n",
    "    # To find out Chi2 value, we need to multiply it with number of free parameters (given in slides)\n",
    "    BIC_A = (A_free * np.log(num_data)) - (2 * np.log(A_free * A_chi2))\n",
    "    BIC_B = (B_free * np.log(num_data)) - (2 * np.log(B_free * B_chi2))\n",
    "    return BIC_A, BIC_B, (BIC_A - BIC_B)"
   ]
  },
  {
   "cell_type": "code",
   "execution_count": 6,
   "id": "7ca7c338",
   "metadata": {},
   "outputs": [
    {
     "name": "stdout",
     "output_type": "stream",
     "text": [
      "BIC of Model A: 9.70726\n",
      "BIC of Model B: 14.97515\n",
      "\n",
      "The difference in BIC of two models are: -5.26788\n"
     ]
    }
   ],
   "source": [
    "num_data_points = 10\n",
    "A_red_chi2, A_free = 1.3, 6\n",
    "B_red_chi2, B_free = 0.7, 8\n",
    "\n",
    "BIC_A, BIC_B, del_BIC = calculate_del_BIC(num_data_points, [A_red_chi2, B_red_chi2], [A_free, B_free])\n",
    "\n",
    "print(f\"BIC of Model A: {BIC_A:.5f}\")\n",
    "print(f\"BIC of Model B: {BIC_B:.5f}\\n\")\n",
    "print(f\"The difference in BIC of two models are: {del_BIC:.5f}\")"
   ]
  },
  {
   "cell_type": "markdown",
   "id": "c96d00ef",
   "metadata": {},
   "source": [
    "# Question 4"
   ]
  },
  {
   "cell_type": "code",
   "execution_count": 7,
   "id": "7042fd9f",
   "metadata": {},
   "outputs": [
    {
     "data": {
      "image/png": "[encoded data removed]",
      "text/plain": [
       "<Figure size 864x432 with 1 Axes>"
      ]
     },
     "metadata": {
      "needs_background": "light"
     },
     "output_type": "display_data"
    }
   ],
   "source": [
    "mean = 10\n",
    "number = 1000\n",
    "random_variables = poisson.rvs(mu = mean, size = number)\n",
    "\n",
    "fig = plt.figure(figsize = (12, 6))\n",
    "plt.hist(random_variables, bins = 'auto', label = \"Poisson Random Numbers\")\n",
    "plt.title(\"Histogram plot for Poisson distributed random variables\", size = 15)\n",
    "plt.xlabel(\"Value\", size = 15)\n",
    "plt.ylabel(\"Count\", size = 15)\n",
    "plt.legend()\n",
    "plt.show()"
   ]
  }
 ],
 "metadata": {
  "kernelspec": {
   "display_name": "Python 3 (ipykernel)",
   "language": "python",
   "name": "python3"
  },
  "language_info": {
   "codemirror_mode": {
    "name": "ipython",
    "version": 3
   },
   "file_extension": ".py",
   "mimetype": "text/x-python",
   "name": "python",
   "nbconvert_exporter": "python",
   "pygments_lexer": "ipython3",
   "version": "3.9.5"
  }
 },
 "nbformat": 4,
 "nbformat_minor": 5
}
