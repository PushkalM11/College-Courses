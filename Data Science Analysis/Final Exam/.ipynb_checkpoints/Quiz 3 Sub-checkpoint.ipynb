{
 "cells": [
  {
   "cell_type": "markdown",
   "id": "03899552",
   "metadata": {},
   "source": [
    "<h1 align='center'>Data Science Analysis</h1>\n",
    "<h1 align='center'>Quiz 3</h1>\n",
    "<h2 align='center'>Pushkal Mishra</h2>\n",
    "<h2 align='center'>EE20BTECH11042</h2>"
   ]
  },
  {
   "cell_type": "markdown",
   "id": "9f9368c6",
   "metadata": {},
   "source": [
    "# Importing Libraries"
   ]
  },
  {
   "cell_type": "code",
   "execution_count": 1,
   "id": "7babd93d",
   "metadata": {},
   "outputs": [],
   "source": [
    "import numpy as np\n",
    "from scipy.stats import chi2\n",
    "import matplotlib.pyplot as plt"
   ]
  },
  {
   "cell_type": "markdown",
   "id": "ca1e6a91",
   "metadata": {},
   "source": [
    "# Question 1"
   ]
  },
  {
   "cell_type": "code",
   "execution_count": 2,
   "id": "1209d91a",
   "metadata": {},
   "outputs": [],
   "source": [
    "def calculate_score(H0_exp1, H0_exp2, H0_exp1_err, H0_exp2_err):\n",
    "    # Significance from p-value is also known as Z-score\n",
    "    z_score = np.abs(H0_exp1 - H0_exp2) / np.sqrt(H0_exp1_err ** 2 + H0_exp2_err ** 2)\n",
    "    return z_score"
   ]
  },
  {
   "cell_type": "code",
   "execution_count": 3,
   "id": "b42ab0f4",
   "metadata": {},
   "outputs": [
    {
     "name": "stdout",
     "output_type": "stream",
     "text": [
      "The Z-score between measurements: 1.51402 sigmas.\n"
     ]
    }
   ],
   "source": [
    "H0_exp1, H0_exp2 = 67, 71\n",
    "H0_exp1_err, H0_exp2_err = 2.3, 1.3\n",
    "\n",
    "z_score = calculate_score(H0_exp1, H0_exp2, H0_exp1_err, H0_exp2_err)\n",
    "\n",
    "print(f\"The Z-score between measurements: {z_score:.5f} sigmas.\")"
   ]
  },
  {
   "cell_type": "markdown",
   "id": "730f1b48",
   "metadata": {},
   "source": [
    "# Question 2"
   ]
  },
  {
   "cell_type": "code",
   "execution_count": 4,
   "id": "3617ecea",
   "metadata": {},
   "outputs": [
    {
     "name": "stdout",
     "output_type": "stream",
     "text": [
      "The value for constant del Chi2 for an 85% confidence interval: 3.79424\n"
     ]
    }
   ],
   "source": [
    "free_params = 2\n",
    "confidence_interval = 0.85\n",
    "\n",
    "# This formula is from the slides of Second and Third week on page 17\n",
    "del_chi2 = chi2(free_params).ppf(confidence_interval)\n",
    "\n",
    "print(f\"The value for constant del Chi2 for an {int(confidence_interval * 100)}% confidence interval: {del_chi2:.5f}\")"
   ]
  },
  {
   "cell_type": "markdown",
   "id": "28165dca",
   "metadata": {},
   "source": [
    "# Question 3"
   ]
  },
  {
   "cell_type": "code",
   "execution_count": 5,
   "id": "f99e261d",
   "metadata": {},
   "outputs": [],
   "source": [
    "def calculate_del_BIC(num_data, chi2_vals, free_params):\n",
    "    A_chi2, B_chi2 = chi2_vals\n",
    "    A_free, B_free = free_params\n",
    "    \n",
    "    # Note that in this question, the reduced Chi2 value is given\n",
    "    # To find out Chi2 value, we need to multiply it with number of free parameters (given in slides)\n",
    "    BIC_A = (A_free * np.log(num_data)) - (2 * np.log(A_free * A_chi2))\n",
    "    BIC_B = (B_free * np.log(num_data)) - (2 * np.log(B_free * B_chi2))\n",
    "    return BIC_A, BIC_B, (BIC_A - BIC_B)"
   ]
  },
  {
   "cell_type": "code",
   "execution_count": 6,
   "id": "7ca7c338",
   "metadata": {},
   "outputs": [
    {
     "name": "stdout",
     "output_type": "stream",
     "text": [
      "BIC of Model A: 9.70726\n",
      "BIC of Model B: 14.97515\n",
      "\n",
      "The difference in BIC of two models are: -5.26788\n"
     ]
    }
   ],
   "source": [
    "num_data_points = 10\n",
    "A_red_chi2, A_free = 1.3, 6\n",
    "B_red_chi2, B_free = 0.7, 8\n",
    "\n",
    "BIC_A, BIC_B, del_BIC = calculate_del_BIC(num_data_points, [A_red_chi2, B_red_chi2], [A_free, B_free])\n",
    "\n",
    "print(f\"BIC of Model A: {BIC_A:.5f}\")\n",
    "print(f\"BIC of Model B: {BIC_B:.5f}\\n\")\n",
    "print(f\"The difference in BIC of two models are: {del_BIC:.5f}\")"
   ]
  },
  {
   "cell_type": "markdown",
   "id": "c96d00ef",
   "metadata": {},
   "source": [
    "# Question 4"
   ]
  },
  {
   "cell_type": "code",
   "execution_count": 7,
   "id": "7042fd9f",
   "metadata": {},
   "outputs": [
    {
     "name": "stdout",
     "output_type": "stream",
     "text": [
      "[ 6  6 11 10  8 11  9  5  9 10  9 12  9 14 16 11  5  8  5  8 11  6  6 12\n",
      "  6 14 10  9  7 14 10  7 14  6  7  7  2  7 11  7  9  7  9 10 16  8  7  9\n",
      " 14  9  4 13  8 11 15 17  9 15 11  4 14 12 14  5  6 10 14  8  9 12  7 13\n",
      "  6  8 15 13 12 14 17  7 12 10  7  8 10 12 12 10  5 10 11  9 10 10  8 11\n",
      " 16  8  9 11 14 13  9  7 11 16 11 17 10  7  4 10 10 12  7  9  7  8  9 17\n",
      "  5  4  6 10  8 12 11  6  6 10 13  6  4  5  6  5  4  9  5  5  7 13  9 11\n",
      " 13 15  6  7  8 14 12 13 11  8 11  9  8 15  6 16 10 10 11 11 13 13 14 11\n",
      " 12  9  8  6 17 15 10  5  7  6  3  8 11 10 11 11 15  8  6  5  7  8  7 13\n",
      " 10  9 10 13 10 11  9  8 12 16 15  9 14 13  9  9 10 17  8 10 14  8 15  9\n",
      " 12 10  8 10 17  9  7 12 12 11 16  9  4  7 11 15  8  5  9  8  8  6  5 11\n",
      " 10  9 13 10 10 14 11  9 11 13 11  9 14  8 11  8  9  7 12 13 12  4 11  8\n",
      "  5  8  6  7 12 13 11 12 13 18  9  5 12  3 14 15 14 12 10 12  9 10 13 12\n",
      " 14 12  8 12  9  9 11 10  9  8 12  9 10  7  5 11  9 12 10  9  9  9 12  6\n",
      "  8  7  7  9 14 14 14 12 17 11  8  9 12  7  6  7 15 13 10 15 15  9  8 10\n",
      " 11  4 15 11 12 12  7 13  8 10 15 10 13  5  9  8 11 10 11  8 13 12  7 14\n",
      " 12  4  8 11  9 11  6 17 10  8 16 10  9  6  7 10  7  8  7 14 12 12  8 11\n",
      "  7  6 10 12 12 11  7  9  9 10 12  6 10 11  8 11 11 14 12 14 10  6  6 12\n",
      " 13 11  9  6  6 13  9  8 12  8 11 13  9 10  5  5  9 14 14 10  6  7  6  4\n",
      "  8 18 10  8  8  8 11  9  9  9  9 16 11  5  8  5  8 17 11  8 13 12 11  8\n",
      "  8 12  9 10 12 12 16 14 11 15  8 11  8  9  5  8 10  7  3  9  9 14 14 10\n",
      " 12  9 11  7  9 11 13  4  7 16  8  6 12 13 16  9  8  7  9 15 11  9  6 10\n",
      " 14  9 13  9  9  9  7 13 11  3 11 13 14  8 14  9  9  5  5  8 16  5 12 15\n",
      " 12  2 11 16 12  7 15 11  6  9  9  8 12 14  9  9 12  4  7 10 14  6  9 10\n",
      " 12 12 11 10 11  7 10 11  9  6 15 12  4  9  5 11  9  9  8  7  8  9 10  7\n",
      " 15  4 11 11 16  8 11  9 17 11  7 15 11 12  9 14  9 11 10  6  7 14  9  8\n",
      "  6  8  5 13 12 15  7  6  8  9  5 10 11 11  7 14  9  8 12 11 10  9  9  8\n",
      " 19 12  8  5  8 11 14  8 10 12 10 10  9  5  9  8 11  7 11 11 12  4 12 17\n",
      " 10  7 17  9 10 11 12  8  4  8 15 10 14 11 10 10  5 10 10 12  8 12  5 16\n",
      " 10 11 11 12  9 10  8  9  9  5  9 10  7 11  8 11 13 17  7  8 12 13 17  9\n",
      " 10  9  9 10  9 10  9 11 11 10  3  7  7 12 15  9  7  5 11  6 13 13 13  9\n",
      " 11  7 10  9 11 11  8 12  9  6 18  8  8 13  7  7 14 11  8 11 14 13  8 13\n",
      "  5 18  6  7 15 17  9 10  9 10  4 12  8 12 11  9 10  9  8 10 10  9 13  7\n",
      " 16  7 11  6 14  9  8  8 10 11 12 17 10 10  8  7  8  9  9 15 15  8  9 10\n",
      " 13  6  9 10  8  7  8  5 14  8 10 11  8 11 12 12 12  6 13 15  4 14  8  9\n",
      "  5  6 20  6 11  7  9  9  4 13 15  7  9 13  9  6 11 14 19  9  8 10 14 12\n",
      "  4  7 15  9  7  5 10  9  7 10 10  7  9 14 10  9  9 11 12 13 17 11 11 14\n",
      " 13 15  7 12 10  9  9  4 13  7  3  9 10  9 12  5  7 11 11 12 14  7 10  6\n",
      " 10 12 11 14 13 12 12 11  8 13  7 13  6 13  6  8 13  6  8 14  9  9  7 11\n",
      "  8 11  2  8  2  7 16 11 14  8  9 11  7 14 13 12 12 11 15 12 14 10 11 12\n",
      " 17 10 11  9 18 10 10 10 13 12 13 11  7  6  7 11 11 10 11  8 12  7 10  9\n",
      "  5 10 13  9  8  8 12  7 12  5 14  8  9 10  5 11 23 11  4 10  9  5  6 11\n",
      " 11  8  9 11 12 13  6  8  5 13  7  8 12 14 10 14]\n"
     ]
    },
    {
     "data": {
      "image/png": "[encoded data removed]",
      "text/plain": [
       "<Figure size 864x432 with 1 Axes>"
      ]
     },
     "metadata": {
      "needs_background": "light"
     },
     "output_type": "display_data"
    }
   ],
   "source": [
    "mean = 10\n",
    "number = 1000\n",
    "random_variables = np.random.poisson(mean, number)\n",
    "print(random_variables)\n",
    "\n",
    "fig = plt.figure(figsize = (12, 6))\n",
    "plt.hist(random_variables, bins = 20, label = \"Poisson Random Numbers\")\n",
    "plt.title(\"Histogram plot for Poisson distributed random variables\", size = 15)\n",
    "plt.xlabel(\"Value\", size = 15)\n",
    "plt.ylabel(\"Count\", size = 15)\n",
    "plt.legend()\n",
    "plt.show()"
   ]
  }
 ],
 "metadata": {
  "kernelspec": {
   "display_name": "Python 3 (ipykernel)",
   "language": "python",
   "name": "python3"
  },
  "language_info": {
   "codemirror_mode": {
    "name": "ipython",
    "version": 3
   },
   "file_extension": ".py",
   "mimetype": "text/x-python",
   "name": "python",
   "nbconvert_exporter": "python",
   "pygments_lexer": "ipython3",
   "version": "3.9.5"
  }
 },
 "nbformat": 4,
 "nbformat_minor": 5
}
